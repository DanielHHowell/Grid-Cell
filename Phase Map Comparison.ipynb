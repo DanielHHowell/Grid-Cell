{
 "cells": [
  {
   "cell_type": "markdown",
   "metadata": {},
   "source": [
    "# Grid Cell Phase Coding \n",
    "\n",
    "\"Phases are in radians, coordinates are in [m] and time base is [ms]. The first data point in XYspkT corresponds with the first spike, which also corresponds with the first phase value\"\n",
    "\n",
    "After changing parameters in the second cell, from the top menu click 'Cell' -> 'Run All' then scroll through\n",
    "\n",
    "(TODO: add firing map (#spikes/time), variance as lightness in meanphasemap (pi), variance weighting, amount of spikes vs. correlation, temporal separation of spikes vs. correlation, radial distribution of prediction variance, population vector prediction,\n",
    "low variance phase map?)\n",
    "\n",
    "(note whether coordinates in numpy [-y,x] or Cartesian [x,y])"
   ]
  },
  {
   "cell_type": "code",
   "execution_count": 1,
   "metadata": {},
   "outputs": [],
   "source": [
    "import math\n",
    "import numpy as np\n",
    "import pandas as pd\n",
    "import matplotlib.pyplot as plt\n",
    "import seaborn as sns\n",
    "from scipy.stats import pearsonr\n",
    "import pycircstat\n",
    "from scipy import ndimage\n",
    "\n",
    "%matplotlib inline\n",
    "np.set_printoptions(suppress=True)\n",
    "%config InLineBackend.figure_format = 'retina'\n",
    "plt.rcParams['figure.figsize'] = [20, 15]\n"
   ]
  },
  {
   "cell_type": "code",
   "execution_count": 2,
   "metadata": {},
   "outputs": [],
   "source": [
    "XYspkT = np.loadtxt('datasets/1/XYspkT.csv',delimiter=',')\n",
    "\n",
    "#Aligns positions to [0,0] in the bottom-left corner\n",
    "XYspkT[:,1] -= XYspkT[:,1].min()\n",
    "XYspkT[:,0] -= XYspkT[:,0].min()\n",
    "scaled_XY = XYspkT/2"
   ]
  },
  {
   "cell_type": "code",
   "execution_count": 3,
   "metadata": {},
   "outputs": [
    {
     "data": {
      "text/plain": [
       "<matplotlib.colorbar.Colorbar at 0x7fb232a2d668>"
      ]
     },
     "execution_count": 3,
     "metadata": {},
     "output_type": "execute_result"
    },
    {
     "data": {
      "image/png": "[encoded data removed]",
      "text/plain": [
       "<Figure size 310.737x288 with 2 Axes>"
      ]
     },
     "metadata": {
      "needs_background": "light"
     },
     "output_type": "display_data"
    }
   ],
   "source": [
    "raw = np.loadtxt('datasets/1/MeanPhaseMap.csv',delimiter=',')\n",
    "\n",
    "#Flipping to align + stripping erraneous values\n",
    "MeanPhaseMap = np.flip(raw,axis=0)\n",
    "MeanPhaseMap[0]='NaN'\n",
    "MeanPhaseMap[:,-1]='NaN'\n",
    "MeanPhaseMap = MeanPhaseMap[1:-1,:-2]\n",
    "arena_size = MeanPhaseMap.shape\n",
    "\n",
    "plt.matshow(MeanPhaseMap)\n",
    "\n",
    "#To-do: reflect radians in bar\n",
    "plt.colorbar()"
   ]
  },
  {
   "cell_type": "code",
   "execution_count": 4,
   "metadata": {},
   "outputs": [
    {
     "name": "stderr",
     "output_type": "stream",
     "text": [
      "/home/daniel/anaconda3/lib/python3.7/site-packages/pycircstat/descriptive.py:340: RuntimeWarning: invalid value encountered in cdouble_scalars\n",
      "  np.sum(w, axis=axis))\n"
     ]
    },
    {
     "data": {
      "text/plain": [
       "<matplotlib.colorbar.Colorbar at 0x7fb2325af358>"
      ]
     },
     "execution_count": 4,
     "metadata": {},
     "output_type": "execute_result"
    },
    {
     "data": {
      "image/png": "[encoded data removed]",
      "text/plain": [
       "<Figure size 302.769x288 with 2 Axes>"
      ]
     },
     "metadata": {
      "needs_background": "light"
     },
     "output_type": "display_data"
    }
   ],
   "source": [
    "def cart2pol(x, y):\n",
    "    rho = np.sqrt(x**2 + y**2)\n",
    "    phi = np.arctan2(y, x)\n",
    "    return(rho, phi)\n",
    "\n",
    "def pol2cart(rho, phi):\n",
    "    x = rho * np.cos(phi)\n",
    "    y = rho * np.sin(phi)\n",
    "    return(x, y)\n",
    "\n",
    "def mean_phase_map(arr,bin_size):\n",
    "    mpm_dict = {}\n",
    "    for ybin in range(0,int(arr[:,1].max()+1),bin_size):\n",
    "        mpm_dict[ybin] = {}\n",
    "        for xbin in range(0,int(arr[:,0].max()+1),bin_size):\n",
    "            phases = []\n",
    "            mpm_dict[ybin][xbin] = []\n",
    "            for spike in arr:\n",
    "                if (xbin <= spike[0] <= xbin+bin_size) and (ybin <= spike[1] <= ybin+bin_size):\n",
    "                    phases.append(spike[2])      \n",
    "            mpm_dict[ybin][xbin] = pycircstat.mean(np.asarray(phases))\n",
    "            #mpm_dict[ybin][xbin] = np.nanmean(np.asarray(phases))\n",
    "\n",
    "#             x = []\n",
    "#             y = []\n",
    "#             for i in phases:\n",
    "#                 xi,yi= pol2cart(1, i)\n",
    "#                 x.append(xi)\n",
    "#                 y.append(yi)\n",
    "#             x = np.mean(x)\n",
    "#             y = np.mean(y)\n",
    "#             a = cart2pol(x,y)\n",
    "#             mpm_dict[ybin][xbin] = a[1]\n",
    "\n",
    "    return mpm_dict\n",
    "\n",
    "phase = np.loadtxt('datasets/1/Phase.csv',delimiter=',')\n",
    "scaled_phase = phase-3.14\n",
    "\n",
    "mpm_arr = np.column_stack((XYspkT,phase))\n",
    "mpm_dict = mean_phase_map(mpm_arr,2)\n",
    "\n",
    "#Rotate the dataframe 90 CCW\n",
    "mpm = pd.DataFrame.from_dict(mpm_dict).T\n",
    "phase_df = mpm.reindex(index=mpm.index[::-1])\n",
    "\n",
    "arena_size = phase_df.shape\n",
    "\n",
    "plt.matshow(phase_df-3.14)\n",
    "\n",
    "#To-do: reflect radians in bar\n",
    "plt.colorbar()"
   ]
  },
  {
   "cell_type": "code",
   "execution_count": 41,
   "metadata": {},
   "outputs": [
    {
     "name": "stderr",
     "output_type": "stream",
     "text": [
      "/home/daniel/anaconda3/lib/python3.7/site-packages/ipykernel_launcher.py:22: RuntimeWarning: Mean of empty slice\n"
     ]
    },
    {
     "data": {
      "text/plain": [
       "<matplotlib.colorbar.Colorbar at 0x7fb225147438>"
      ]
     },
     "execution_count": 41,
     "metadata": {},
     "output_type": "execute_result"
    },
    {
     "data": {
      "image/png": "[encoded data removed]",
      "text/plain": [
       "<Figure size 432x288 with 2 Axes>"
      ]
     },
     "metadata": {
      "needs_background": "light"
     },
     "output_type": "display_data"
    }
   ],
   "source": [
    "def cart2pol(x, y):\n",
    "    rho = np.sqrt(x**2 + y**2)\n",
    "    phi = np.arctan2(y, x)\n",
    "    return(rho, phi)\n",
    "\n",
    "def pol2cart(rho, phi):\n",
    "    x = rho * np.cos(phi)\n",
    "    y = rho * np.sin(phi)\n",
    "    return(x, y)\n",
    "\n",
    "def mean_phase_map(arr,bin_size):\n",
    "    mpm_dict = {}\n",
    "    for ybin in range(0,int(arr[:,1].max()+1),bin_size):\n",
    "        mpm_dict[ybin] = {}\n",
    "        for xbin in range(0,int(arr[:,0].max()+1),bin_size):\n",
    "            phases = []\n",
    "            mpm_dict[ybin][xbin] = []\n",
    "            for spike in arr:\n",
    "                if (xbin <= spike[0] <= xbin+bin_size) and (ybin <= spike[1] <= ybin+bin_size):\n",
    "                    phases.append(spike[2])      \n",
    "            #mpm_dict[ybin][xbin] = pycircstat.mean(np.asarray(phases))\n",
    "            mpm_dict[ybin][xbin] = np.nanmean(np.asarray(phases))\n",
    "\n",
    "#             x = []\n",
    "#             y = []\n",
    "#             for i in phases:\n",
    "#                 xi,yi= pol2cart(1, i)\n",
    "#                 x.append(xi)\n",
    "#                 y.append(yi)\n",
    "#             x = np.mean(x)\n",
    "#             y = np.mean(y)\n",
    "#             a = cart2pol(x,y)\n",
    "#             mpm_dict[ybin][xbin] = a[1]\n",
    "\n",
    "    return mpm_dict\n",
    "\n",
    "phase = np.loadtxt('datasets/1/Phase.csv',delimiter=',')\n",
    "scaled_phase = phase-3.14\n",
    "\n",
    "mpm_arr = np.column_stack((XYspkT,scaled_phase))\n",
    "mpm_dict = mean_phase_map(mpm_arr,2)\n",
    "\n",
    "#Rotate the dataframe 90 CCW\n",
    "mpm = pd.DataFrame.from_dict(mpm_dict).T\n",
    "phase_df = mpm.reindex(index=mpm.index[::-1])\n",
    "\n",
    "arena_size = phase_df.shape\n",
    "plt.imshow(phase_df)\n",
    "\n",
    "#To-do: reflect radians in bar\n",
    "plt.colorbar()"
   ]
  },
  {
   "cell_type": "code",
   "execution_count": 45,
   "metadata": {},
   "outputs": [
    {
     "name": "stderr",
     "output_type": "stream",
     "text": [
      "/home/daniel/anaconda3/lib/python3.7/site-packages/ipykernel_launcher.py:1: FutureWarning: Method .as_matrix will be removed in a future version. Use .values instead.\n",
      "  \"\"\"Entry point for launching an IPython kernel.\n"
     ]
    }
   ],
   "source": [
    "np_df = np.nan_to_num(phase_df.as_matrix())"
   ]
  },
  {
   "cell_type": "code",
   "execution_count": 50,
   "metadata": {},
   "outputs": [
    {
     "data": {
      "text/plain": [
       "<matplotlib.image.AxesImage at 0x7fb224d519b0>"
      ]
     },
     "execution_count": 50,
     "metadata": {},
     "output_type": "execute_result"
    },
    {
     "data": {
      "image/png": "[encoded data removed]",
      "text/plain": [
       "<Figure size 432x288 with 1 Axes>"
      ]
     },
     "metadata": {
      "needs_background": "light"
     },
     "output_type": "display_data"
    }
   ],
   "source": [
    "plt.imshow(ndimage.filters.gaussian_filter(np_df, sigma=0.2))"
   ]
  },
  {
   "cell_type": "code",
   "execution_count": 57,
   "metadata": {},
   "outputs": [
    {
     "name": "stderr",
     "output_type": "stream",
     "text": [
      "/home/daniel/anaconda3/lib/python3.7/site-packages/ipykernel_launcher.py:1: FutureWarning: Method .as_matrix will be removed in a future version. Use .values instead.\n",
      "  \"\"\"Entry point for launching an IPython kernel.\n",
      "/home/daniel/anaconda3/lib/python3.7/site-packages/ipykernel_launcher.py:9: RuntimeWarning: invalid value encountered in true_divide\n",
      "  if __name__ == '__main__':\n"
     ]
    },
    {
     "data": {
      "text/plain": [
       "<matplotlib.image.AxesImage at 0x7fb224becb70>"
      ]
     },
     "execution_count": 57,
     "metadata": {},
     "output_type": "execute_result"
    },
    {
     "data": {
      "image/png": "[encoded data removed]",
      "text/plain": [
       "<Figure size 432x288 with 1 Axes>"
      ]
     },
     "metadata": {
      "needs_background": "light"
     },
     "output_type": "display_data"
    }
   ],
   "source": [
    "U = phase_df.as_matrix()\n",
    "V=U.copy()\n",
    "V[U!=U]=0\n",
    "VV=ndimage.gaussian_filter(V,sigma=0.5)\n",
    "\n",
    "W=0*U.copy()+1\n",
    "W[U!=U]=0\n",
    "WW=ndimage.gaussian_filter(W,sigma=0.5)\n",
    "plt.imshow(VV/WW)"
   ]
  },
  {
   "cell_type": "code",
   "execution_count": 54,
   "metadata": {},
   "outputs": [
    {
     "data": {
      "text/plain": [
       "<matplotlib.image.AxesImage at 0x7fb224cb1c50>"
      ]
     },
     "execution_count": 54,
     "metadata": {},
     "output_type": "execute_result"
    },
    {
     "data": {
      "image/png": "[encoded data removed]",
      "text/plain": [
       "<Figure size 432x288 with 1 Axes>"
      ]
     },
     "metadata": {
      "needs_background": "light"
     },
     "output_type": "display_data"
    }
   ],
   "source": [
    "plt.imshow(Z)"
   ]
  },
  {
   "cell_type": "code",
   "execution_count": null,
   "metadata": {},
   "outputs": [],
   "source": []
  }
 ],
 "metadata": {
  "kernelspec": {
   "display_name": "Python 3",
   "language": "python",
   "name": "python3"
  },
  "language_info": {
   "codemirror_mode": {
    "name": "ipython",
    "version": 3
   },
   "file_extension": ".py",
   "mimetype": "text/x-python",
   "name": "python",
   "nbconvert_exporter": "python",
   "pygments_lexer": "ipython3",
   "version": "3.7.1"
  }
 },
 "nbformat": 4,
 "nbformat_minor": 2
}
